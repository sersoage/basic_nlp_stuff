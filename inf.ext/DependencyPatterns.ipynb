{
 "cells": [
  {
   "cell_type": "markdown",
   "metadata": {},
   "source": [
    "This notebook explores relation extraction by measuring common dependency paths between two entities that hold a given relation to each other -- here, the relation \"born_in\" between a PER entity and an GPE entity, using data from Wikipedia biographies."
   ]
  },
  {
   "cell_type": "code",
   "execution_count": 1,
   "metadata": {},
   "outputs": [],
   "source": [
    "import re\n",
    "import spacy\n",
    "import neuralcoref\n",
    "from collections import Counter"
   ]
  },
  {
   "cell_type": "code",
   "execution_count": 2,
   "metadata": {},
   "outputs": [],
   "source": [
    "nlp = spacy.load('en')\n",
    "# workaround if you are getting an error loading the sapcy 'en' module:\n",
    "# nlp = spacy.load('en_core_web_sm')\n",
    "coref = neuralcoref.NeuralCoref(nlp.vocab)\n",
    "nlp.add_pipe(coref, name='neuralcoref')"
   ]
  },
  {
   "cell_type": "code",
   "execution_count": 3,
   "metadata": {},
   "outputs": [],
   "source": [
    "def get_path(one, two):\n",
    "    \n",
    "    \"\"\" Get dependency path between two tokens in a sentence; return None if not reachable \"\"\"\n",
    "    \n",
    "    one_heads=[x for x in one.ancestors]\n",
    "    two_heads=[x for x in two.ancestors]\n",
    "    \n",
    "    up_path=[]\n",
    "    down_path=[]\n",
    "    up_path.append(one)\n",
    "    down_path.append(two)\n",
    "    \n",
    "    lca=None\n",
    "    for head in one_heads:\n",
    "        if head in two_heads:\n",
    "            lca=head\n",
    "            break\n",
    "            \n",
    "        up_path.append(head)\n",
    "\n",
    "    for head in two_heads:\n",
    "        if head == lca:\n",
    "            break\n",
    "    \n",
    "        down_path.append(head)\n",
    "   \n",
    "    if lca is None:\n",
    "        return None\n",
    "    \n",
    "    path=\"%s->%s<-%s\" % ('->'.join([\"%s\" % x.dep_ for x in up_path]), lca.text, '<-'.join([\"%s\" % x.dep_ for x in reversed(down_path)]))\n",
    "    return path"
   ]
  },
  {
   "cell_type": "code",
   "execution_count": 4,
   "metadata": {},
   "outputs": [],
   "source": [
    "def get_closest_coref(entity1, clusters, target_entity):\n",
    "    \n",
    "    \"\"\" Given entities e1 and mention m2 of another entity, returns the mention for e1 closest to m2 \"\"\"\n",
    "    \n",
    "    targetCluster=None\n",
    "    for chain in clusters:\n",
    "        for mention in chain.mentions:\n",
    "            if mention.start <= entity1.start and mention.end >= entity1.end:\n",
    "                targetCluster=chain\n",
    "                break\n",
    "\n",
    "    if targetCluster is None:\n",
    "        return None\n",
    "\n",
    "    closestMention=None\n",
    "    dist=100\n",
    "    for mention in targetCluster:\n",
    "            sentDist=abs(target_entity.sent.start-mention.sent.start)\n",
    "            if sentDist < dist:\n",
    "                dist=sentDist\n",
    "                closestMention=mention\n",
    "            if sentDist == dist and closestMention is not None: \n",
    "                if abs(target_entity.start-mention.start) < abs(target_entity.start-closestMention.start):\n",
    "                    closetMention=mention\n",
    "    return closestMention\n",
    "                "
   ]
  },
  {
   "cell_type": "markdown",
   "metadata": {},
   "source": [
    "Q1. In class activity: here's [a Google spreadsheet](https://docs.google.com/spreadsheets/d/1PNDInP5JIqad9mOXwRUxGDZntvoUerX22QQcgFCJDxY/edit?usp=sharing) with the first 5 sentences from ~500 Wikipedia biographies.  Pick 10 rows of this spreadsheet and put your student ID in the \"Student ID\" column; then go through those 20 rows and read the document. If you can infer that a person from the People column was born in a place in the Places column, list that person in the \"PER BORN\" column and the place in the \"PLACE BORN\" column."
   ]
  },
  {
   "cell_type": "code",
   "execution_count": 5,
   "metadata": {},
   "outputs": [],
   "source": [
    "def read_training(filename):\n",
    "    \n",
    "    \"\"\" Read in training data for <person, place> tuples that express the \"born_in\" relation.\n",
    "    \n",
    "    -- Use coreference resolution to identity the person mention closest to the place mention.\n",
    "    -- Use dependency parsing to extract the syntactic path from that person mention to the place.\n",
    "    \n",
    "    \"\"\"\n",
    "    \n",
    "    data=[]\n",
    "    with open(filename) as file:\n",
    "        for line in file:\n",
    "            cols=line.split(\"\\t\")\n",
    "            idd=cols[0]\n",
    "            doc=cols[1]\n",
    "            pers=cols[4]\n",
    "            place=cols[5].rstrip()\n",
    "            \n",
    "            if pers != \"\" and place != \"\":\n",
    "                doc=nlp(doc)\n",
    "\n",
    "                target_person=None\n",
    "                target_place=None\n",
    "                \n",
    "                # Annotations are at the type level, so let's anchor them to specific mentions\n",
    "                for entity in doc.ents:\n",
    "                    if entity.text == pers:\n",
    "                        target_person=entity\n",
    "                    elif entity.text == place:\n",
    "                        target_place=entity\n",
    "                \n",
    "                if target_person is not None and target_place is not None:\n",
    "                    \n",
    "                    # Use coreference to get person mention that's closest to the place (ideally in the same sentence).\n",
    "                    closest_person_mention=get_closest_coref(target_person, doc._.coref_clusters, target_place)\n",
    "                    if closest_person_mention is None:\n",
    "                        closest_person_mention=target_person\n",
    "                    \n",
    "                    path=get_path(closest_person_mention.root, target_place.root)\n",
    "                    \n",
    "                    # if a path can be found between the two\n",
    "                    if path is not None:\n",
    "                        data.append((pers, place, path, target_place.sent ))\n",
    "    return data     "
   ]
  },
  {
   "cell_type": "markdown",
   "metadata": {},
   "source": [
    "Save this Google sheet as a tsv in `data/born.tsv` and execute the `read_training` function on it to read in the <person, place> tuples."
   ]
  },
  {
   "cell_type": "code",
   "execution_count": 7,
   "metadata": {},
   "outputs": [
    {
     "name": "stdout",
     "output_type": "stream",
     "text": [
      "Petermann\tBleicherode\tnsubjpass->born<-prep<-pobj\tPetermann was born in Bleicherode , Germany .\n",
      "Omar Ahmed Sayid Khadr\tCanada\tnsubjpass->taken<-advcl<-prep<-pobj\tBorn in Canada , Khadr was taken to Afghanistan by his father , who was affiliated with Al-Qaeda and other terrorist organizations .\n",
      "Marx\tTrier\tnpadvmod->amod->dep->Born<-prep<-pobj\tBorn in Trier , Germany , to a Jewish middle-class family , Marx studied law and philosophy at university .\n",
      "Joseph Rudyard Kipling\tIndia\tnsubjpass->born<-prep<-pobj\tHe was born in India , which inspired much of his work .\n",
      "Jeffrey Koons\tPennsylvania\tnsubj->lives<-conj<-prep<-pobj<-conj<-prep<-pobj<-appos\tHe lives and works in both New York City and his hometown of York , Pennsylvania .\n",
      "Sonia Maria Sotomayor\tBronx\tnsubjpass->born<-prep<-pobj\tSotomayor was born in The Bronx , New York City , to Puerto Rican-born parents .\n",
      "Margaret Alice Murray\tCalcutta\tnsubj->divided<-advcl<-prep<-pobj<-prep<-pobj\tBorn to a wealthy middle-class English family in Calcutta , British India , Murray divided her youth between India , Britain , and Germany , training as both a nurse and a social worker .\n",
      "Hutchinson\tAlford\tnsubjpass->born<-prep<-pobj\tHutchinson was born in Alford , Lincolnshire , England , the daughter of Francis Marbury , an Anglican cleric and school teacher who gave her a far better education than most other girls received .\n",
      "Alfred Joseph Hitchcock\tLondon\tnsubj->entered<-advcl<-prep<-pobj<-prep<-pobj\tBorn on the outskirts of London , Hitchcock entered the film industry in 1919 as a title card designer after training as a technical clerk and copy writer for a telegraph-cable company .\n",
      "Edward Scott Pruitt\tOklahoma\tnsubj->is<-attr<-prep<-pobj<-prep<-pobj\tEdward Scott Pruitt ( born May 9 , 1968 ) is an American lawyer and Republican politician from the state of Oklahoma .\n",
      "William Morris\tWalthamstow\tnsubj->came<-advcl<-prep<-pobj\tBorn in Walthamstow , Essex , to a wealthy middle-class family , Morris came under the strong influence of medievalism while studying Classics at Oxford University , there joining the Birmingham Set .\n",
      "Michael Collins\tWoodfield\tnsubjpass->born<-prep<-pobj\tCollins was born in Woodfield , County Cork , the youngest of eight children , and his family had republican connections reaching back to the 1798 rebellion .\n",
      "Josephine Sarah\tNew York\tnsubjpass->born<-prep<-pobj\tJosephine was born in New York to a Prussian Jewish family ; her father was a baker .\n",
      "Robert Sylvester Kelly\tChicago\tnsubj->began<-advcl<-prep<-pobj\tA native of Chicago , Kelly began performing during the late 1980s and debuted in 1992 with the group Public Announcement .\n",
      "Konrad Henlein\tMaffersdorf\tnsubjpass->born<-prep<-pobj\tKonrad Henlein was born in Maffersdorf ( present-day Vratislavice nad Nisou ) near Reichenberg ( Liberec ) , in what was then the Bohemian crown land of Austria-Hungary .\n",
      "Nancy Davis Reagan\tNew York City\tnsubjpass->born<-prep<-pobj\tShe was born in New York City .\n",
      "King\tAtlanta\tnsubjpass->known<-advcl<-prep<-pobj\tBorn in Atlanta , King is best known for advancing civil rights through nonviolence and civil disobedience , tactics his Christian beliefs and the nonviolent activism of Mahatma Gandhi helped inspire .\n",
      "John Winston Lennon\tLiverpool\tpobj->as<-pobj<-prep<-pobj\tHe was born as John Winston Lennon in Liverpool , where he became involved in the skiffle craze as a teenager .\n",
      "Frederick Sewards Trueman\tStainton\tnsubjpass->born<-prep<-pobj\tHe was born in Stainton , West Riding of Yorkshire , and died in Steeton with Eastburn , West Yorkshire .\n",
      "Karim Mostafa Benzema\tLyon\tnsubjpass->born<-prep<-pobj<-prep<-pobj\tBenzema was born in the city of Lyon and began his football career with local club Bron Terraillon .\n",
      "Francisco Franco Bahamonde\tSpain\tnsubj->was<-attr<-relcl<-prep<-pobj\tFrancisco Franco Bahamonde ( ; ; 4 December 1892 – 20 November 1975 ) was a Spanish general who ruled over Spain as a military dictator from 1939 , after the nationalist victory in the Spanish Civil War , until his death in 1975 .\n",
      "Theodore Roosevelt Jr.\tNew York\tnsubj->served<-conj<-pobj<-prep<-pobj\tHe also served as the 25th Vice President of the United States from March to September 1901 and as the 33rd Governor of New York from 1899 to 1900 .\n",
      "Frederick Russell Burnham DSO\tMinnesota\tnsubj->relcl->reservation<-prep<-pobj\tBurnham was born on a Dakota Sioux Indian reservation in Minnesota where he learned the ways of American Indians as a boy .\n",
      "Irving Berlin\tImperial Russia\tnsubj->arrived<-advcl<-prep<-pobj\tBorn in Imperial Russia , Berlin arrived in the United States at the age of five .\n",
      "Jawaharlal Nehru\tIndia\tnsubj->emerged<-conj<-dobj\tHe emerged as an eminent leader of the Indian independence movement under the tutelage of Mahatma Gandhi and served India as Prime Minister from its establishment as an independent nation in 1947 until his death in 1964 .\n",
      "Ahmet Davutoğlu\tTurkey\tnsubj->is<-attr<-relcl<-attr<-prep<-pobj\tAhmet Davutoğlu ( ; born 26 February 1959 ) is a Turkish academic , politician and former diplomat who was the Prime Minister of Turkey and leader of the Justice and Development Party ( AKP ) from August 2014 to May 2016 .\n",
      "Ayaan Hirsi Ali\tSomali\tnsubj->csubj->is<-attr<-amod<-npadvmod\tAyaan Hirsi Ali ( ; ; born Ayaan Hirsi Magan , 13 November 1969 ) is a Somali-born Dutch-American activist , feminist , author , scholar and former politician .\n",
      "Archibald Campbell MacLaren\tEngland\tnsubj->played<-prep<-pobj\tA right-handed batsman , he played 35 Test matches for England , as captain in 22 of those games , and led the team to defeat in four Ashes series against Australia .\n",
      "George Stanley McGovern\tSouth Dakota\tnsubj->grew<-prep<-pobj<-appos\tMcGovern grew up in Mitchell , South Dakota , where he was a renowned debater .\n",
      "Julia Eileen Gillard\tWales\tnsubj->migrated<-advcl<-prep<-pobj<-conj\tBorn in Barry , Wales , Gillard migrated with her family to Adelaide , South Australia , in 1966 .\n",
      "Aafia Siddiqui\tPakistan\tnsubjpass->born<-prep<-pobj\tSiddiqui was born in Pakistan to a Deobandi Muslim family .\n",
      "Roberto Luongo\tMontreal\tnsubj->is<-advcl<-prep<-pobj\tBorn in Montreal , Quebec , he is of Italian and Irish ancestry .\n",
      "Jimmie Kenneth Johnson\tEl Cajon\tnsubjpass->born<-prep<-pobj\tJohnson was born in El Cajon , California , and began racing motorcycles at the age of four .\n",
      "Seward\tFlorida\tnsubjpass->born<-prep<-pobj\tSeward was born in Florida , Orange County , New York , where his father was a farmer and owned slaves .\n",
      "John Lawrence McKenzie\tBrazil\tnsubjpass->born<-prep<-pobj<-prep<-pobj\tJohn Lawrence McKenzie ( October 9 , 1910 – March 2 , 1991 ) was born on October 9 , 1910 , in Brazil , Indiana , the first of the six children of Myra ( Daly ) and Harry McKenzie .\n",
      "Donald John Trump\tNew York City\tnsubjpass->born<-conj<-prep<-pobj<-compound\tTrump was born and raised in the New York City borough of Queens .\n",
      "Earl Warren\tLos Angeles\tnsubjpass->born<-prep<-pobj\tWarren was born in 1891 in Los Angeles and was raised in Bakersfield , California .\n",
      "Keith Ross Miller\tAustralia\tnsubjpass->regarded<-prep<-pobj<-poss\tMiller is widely regarded as Australia 's greatest ever all-rounder .\n",
      "Rodney Stephen Steiger\tNew York\tnsubjpass->born<-prep<-pobj<-appos\tSteiger was born in Westhampton , New York , the son of a vaudevillian .\n",
      "Elizabeth Canning\tthe City of London\tnsubj->disappeared<-prep<-pcomp<-prep<-pobj<-prep<-pobj\tShe disappeared on 1 January 1753 , before returning almost a month later to her mother 's home in Aldermanbury in the City of London , emaciated and in a `` deplorable condition '' .\n",
      "Katharine Cornell\tBerlin\tnsubjpass->born<-prep<-pobj\tShe was born in Berlin to American parents and raised in Buffalo , New York .\n",
      "Abbott\tLondon\tnsubjpass->born<-prep<-pobj\tAbbott was born in London to an Australian mother and a British father , and moved to Sydney at the age of two .\n",
      "Marshall\tFauquier County\tnsubjpass->born<-prep<-pobj\tMarshall was born in Fauquier County , Virginia in 1755 .\n",
      "Roderick David Stewart\tLondon\tnsubj->is<-advcl<-conj<-prep<-pobj\tBorn and raised in London , he is of Scottish and English ancestry .\n",
      "Suharto\tIndonesia\tnsubj->csubj->was<-attr<-relcl<-prep<-pobj<-prep<-pobj\tSuharto ( also written Soeharto , ; 8 June 1921 – 27 January 2008 ) was an Indonesian military leader and politician who served as the second President of Indonesia , holding the office for 31 years , from the ousting of Sukarno in 1967 until his resignation in 1998 .\n",
      "Charles Spencer Chaplin\tLondon\tposs->childhood<-prep<-pobj\tChaplin 's childhood in London was one of poverty and hardship .\n",
      "William Edward Burghardt Du Bois\tGreat Barrington\tnsubj->grew<-advcl<-prep<-pobj\tBorn in Great Barrington , Massachusetts , Du Bois grew up in a relatively tolerant and integrated community .\n"
     ]
    }
   ],
   "source": [
    "trainingData=read_training(\"../data/born.tsv\")\n",
    "for data in trainingData:\n",
    "    print ('\\t'.join([str(x) for x in data]))"
   ]
  },
  {
   "cell_type": "markdown",
   "metadata": {},
   "source": [
    "Q2: Count the syntactic paths identified in the training data.  What are the two that are most frequently attested?"
   ]
  },
  {
   "cell_type": "code",
   "execution_count": 8,
   "metadata": {},
   "outputs": [
    {
     "name": "stdout",
     "output_type": "stream",
     "text": [
      "nsubjpass->born<-prep<-pobj\t16\n",
      "nsubjpass->born<-prep<-pobj<-prep<-pobj\t2\n"
     ]
    }
   ],
   "source": [
    "counts=Counter()\n",
    "for _, _, path, _ in trainingData:\n",
    "    counts[path]+=1\n",
    "for k, v in counts.most_common(2):\n",
    "    print(\"%s\\t%s\" % (k,v))"
   ]
  },
  {
   "cell_type": "markdown",
   "metadata": {},
   "source": [
    "Q3: Write a function to read in a target file (containing one document per line) and a syntactic path and identify all people/places that are joined by that path. Hint: you can use the get_path function defined above to retrieve the syntactic path between two tokens."
   ]
  },
  {
   "cell_type": "code",
   "execution_count": 9,
   "metadata": {},
   "outputs": [],
   "source": [
    "def extract_relations(filename, target_path):\n",
    "    \n",
    "    \"\"\" Extract new relations from a file.\n",
    "    Input: \n",
    "        - filename containing one document per line\n",
    "        - target_path: the syntactic dependency path connecting the person entity to the place entity\n",
    "    Output:\n",
    "        - a list of (pers, place, path, sentence) tuples in the same format returned from `read_training`.\n",
    "    \n",
    "    \"\"\"\n",
    "    data=[]\n",
    "    with open(filename) as file:\n",
    "        for line in file:\n",
    "            text=line.rstrip()\n",
    "\n",
    "            doc=nlp(text)\n",
    "\n",
    "            for sent in doc.sents:\n",
    "                people=[]\n",
    "                places=[]\n",
    "\n",
    "                for entity in sent.ents:\n",
    "                    if entity.label_ == \"PERSON\":\n",
    "                        people.append(entity)\n",
    "                    elif entity.label_ == \"GPE\":\n",
    "                        places.append(entity)\n",
    "\n",
    "                for person in people:\n",
    "                    for place in places:\n",
    "\n",
    "                        path=get_path(person.root, place.root)\n",
    "\n",
    "                        if path is not None and path == target_path:\n",
    "                            data.append((person, place, path, place.sent ))\n",
    "                           # print(\"%s\\t%s\\t%s\\t%s\" % (person, place, path, sent))\n",
    "    return data"
   ]
  },
  {
   "cell_type": "code",
   "execution_count": 10,
   "metadata": {},
   "outputs": [
    {
     "name": "stdout",
     "output_type": "stream",
     "text": [
      "Joel\tBronx\tnsubjpass->born<-prep<-pobj\tJoel was born in 1949 in The Bronx , New York , and grew up on Long Island , New York , both places that influenced his music .\n",
      "\n",
      "John Whitfield Bunn\tHunterdon County\tnsubjpass->born<-prep<-pobj\tJohn Whitfield Bunn was born June 21 , 1831 , in Hunterdon County , New Jersey .\n",
      "\n",
      "Hanna\tNew Lisbon\tnsubjpass->born<-prep<-pobj\tHanna was born in New Lisbon ( today Lisbon ) , Ohio , in 1837 .\n",
      "\n",
      "Foraker\tOhio\tnsubjpass->born<-prep<-pobj\tForaker was born in rural Ohio in 1846 , and enlisted at age 16 in the Union Army during the American Civil War .\n",
      "\n",
      "Bonnet\tBassillac\tnsubjpass->born<-prep<-pobj\tBonnet was born in Bassillac , Dordogne , the son of a lawyer .\n",
      "\n",
      "Agnew\tBaltimore\tnsubjpass->born<-prep<-pobj\tAgnew was born in Baltimore , to an American-born mother and a Greek immigrant father .\n",
      "\n",
      "Bush\tNew Haven\tnsubjpass->born<-prep<-pobj\tBush was born in New Haven , Connecticut , and grew up in Texas .\n",
      "\n",
      "Biden\tScranton\tnsubjpass->born<-prep<-pobj\tBiden was born in Scranton , Pennsylvania , in 1942 , and lived there for ten years before moving with his family to Delaware .\n",
      "\n",
      "Adams\tBoston\tnsubjpass->born<-prep<-pobj\tAdams was born in Boston , brought up in a religious and politically active family .\n",
      "\n",
      "Kerry\tAurora\tnsubjpass->born<-prep<-pobj\tKerry was born in Aurora , Colorado and attended boarding school in Massachusetts and New Hampshire .\n",
      "\n",
      "Stengel\tKansas City\tnsubjpass->born<-prep<-pobj\tStengel was born in Kansas City , Missouri .\n",
      "\n"
     ]
    }
   ],
   "source": [
    "new_examples=extract_relations(\"../data/wiki.bio.born.test.txt\", \"nsubjpass->born<-prep<-pobj\")\n",
    "for data in new_examples:\n",
    "    print ('\\t'.join([str(x) for x in data]))\n",
    "    print()"
   ]
  },
  {
   "cell_type": "markdown",
   "metadata": {},
   "source": [
    "Q4: Execute `extract_relations` on `../data/wiki.bio.born.test.txt` and the two most frequent paths identified in the training data above."
   ]
  },
  {
   "cell_type": "code",
   "execution_count": 11,
   "metadata": {},
   "outputs": [
    {
     "name": "stdout",
     "output_type": "stream",
     "text": [
      "Joel Stephen Kovel\tBrooklyn\tnsubjpass->born<-prep<-pobj<-prep<-pobj\tJoel Stephen Kovel was born on August 27 , 1936 , in Brooklyn , New York .\n",
      "\n"
     ]
    }
   ],
   "source": [
    "new_examples=extract_relations(\"../data/wiki.bio.born.test.txt\", \"nsubjpass->born<-prep<-pobj<-prep<-pobj\")\n",
    "for data in new_examples:\n",
    "    print ('\\t'.join([str(x) for x in data]))\n",
    "    print()"
   ]
  }
 ],
 "metadata": {
  "kernelspec": {
   "display_name": "Python 3",
   "language": "python",
   "name": "python3"
  },
  "language_info": {
   "codemirror_mode": {
    "name": "ipython",
    "version": 3
   },
   "file_extension": ".py",
   "mimetype": "text/x-python",
   "name": "python",
   "nbconvert_exporter": "python",
   "pygments_lexer": "ipython3",
   "version": "3.7.2"
  }
 },
 "nbformat": 4,
 "nbformat_minor": 2
}
