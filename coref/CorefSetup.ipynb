{
 "cells": [
  {
   "cell_type": "markdown",
   "metadata": {},
   "source": [
    "This notebook explores the `neuralcoref` spacy package."
   ]
  },
  {
   "cell_type": "markdown",
   "metadata": {},
   "source": [
    "Install neuralcoref (which will upgrade spacy to 2.1) and re-install spacy models.\n",
    "\n",
    "```sh\n",
    "pip install neuralcoref --no-binary neuralcoref\n",
    "python -m spacy download en_core_web_sm\n",
    "```"
   ]
  },
  {
   "cell_type": "code",
   "execution_count": 2,
   "metadata": {},
   "outputs": [],
   "source": [
    "import spacy\n",
    "import neuralcoref"
   ]
  },
  {
   "cell_type": "code",
   "execution_count": 3,
   "metadata": {},
   "outputs": [],
   "source": [
    "nlp = spacy.load('en')\n",
    "# workaround if you are getting an error loading the sapcy 'en' module:\n",
    "# nlp = spacy.load('en_core_web_sm')\n",
    "coref = neuralcoref.NeuralCoref(nlp.vocab)\n",
    "nlp.add_pipe(coref, name='neuralcoref')"
   ]
  },
  {
   "cell_type": "code",
   "execution_count": 4,
   "metadata": {},
   "outputs": [],
   "source": [
    "doc = nlp(u'My sister has a dog. She loves him.')"
   ]
  },
  {
   "cell_type": "markdown",
   "metadata": {},
   "source": [
    "Coreference clusters can be found in the `_.coref_clusters` attribute of `doc`. `_.coref_clusters` is a list of mention *clusters* -- each *mention* is a span of tokens in the text and a cluster of such mentions are those spans that co-refer to the same unique *entity*.\n",
    "\n",
    "Each mention is a spacy [Span](https://spacy.io/api/span) object and has all of the methods/attributes of that class.  "
   ]
  },
  {
   "cell_type": "code",
   "execution_count": 13,
   "metadata": {},
   "outputs": [
    {
     "name": "stdout",
     "output_type": "stream",
     "text": [
      "Coreference chain 0:\n",
      "My sister 0 2\n",
      "She 6 7\n",
      "\n",
      "Coreference chain 1:\n",
      "a dog 3 5\n",
      "him 8 9\n",
      "\n"
     ]
    }
   ],
   "source": [
    "for idx, chain in enumerate(doc._.coref_clusters):\n",
    "    print (\"Coreference chain %s:\" % idx)\n",
    "    for mention in chain.mentions:\n",
    "        print(mention.text, mention.start, mention.end)\n",
    "    print()"
   ]
  },
  {
   "cell_type": "markdown",
   "metadata": {},
   "source": [
    "The head of a spacy span can be approximated by the `span.root` attribute, which is \"the token with the shortest path to the root of the sentence.\"  The syntactic relation of the entire mention to the rest of the sentence is best captured by this root."
   ]
  },
  {
   "cell_type": "code",
   "execution_count": 8,
   "metadata": {},
   "outputs": [
    {
     "name": "stdout",
     "output_type": "stream",
     "text": [
      "My sister 0 2 sister nsubj has\n",
      "She 6 7 She nsubj loves\n",
      "\n",
      "a dog 3 5 dog dobj has\n",
      "him 8 9 him dobj loves\n",
      "\n"
     ]
    }
   ],
   "source": [
    "for chain in doc._.coref_clusters:\n",
    "    for mention in chain.mentions:\n",
    "        # mention.text = entire text space of entity\n",
    "        # mention.start = token start position of entity\n",
    "        # mention.end = token end position of entity\n",
    "        # mention.root = spacy Token object that is the syntactic head of the mention (in a dependency tree)\n",
    "        print(mention.text, mention.start, mention.end, mention.root, mention.root.dep_, mention.root.head)\n",
    "    print()"
   ]
  },
  {
   "cell_type": "markdown",
   "metadata": {},
   "source": [
    "Now test the limits of spacy coreference. How does it fare on:\n",
    "\n",
    "- Winograd schema challenge questions?\n",
    "- long documents?\n",
    "- near-identity?"
   ]
  },
  {
   "cell_type": "code",
   "execution_count": 26,
   "metadata": {},
   "outputs": [],
   "source": [
    "def print_coref_chains(text):\n",
    "    doc = nlp(text)\n",
    "    for chain in doc._.coref_clusters:\n",
    "        for mention in chain.mentions:\n",
    "            print(mention.text, mention.start, mention.end)\n",
    "        print()"
   ]
  },
  {
   "cell_type": "code",
   "execution_count": 27,
   "metadata": {},
   "outputs": [
    {
     "name": "stdout",
     "output_type": "stream",
     "text": [
      "The trophy 0 2\n",
      "it 10 11\n",
      "\n"
     ]
    }
   ],
   "source": [
    "print_coref_chains(\"The trophy would not fit in the brown suitcase because it was too big\")"
   ]
  },
  {
   "cell_type": "code",
   "execution_count": 21,
   "metadata": {},
   "outputs": [
    {
     "name": "stdout",
     "output_type": "stream",
     "text": [
      "The town councilors 0 3\n",
      "they 11 12\n",
      "\n"
     ]
    }
   ],
   "source": [
    "print_coref_chains(\"The town councilors refused to give the demonstrators a permit because they feared violence.\")"
   ]
  },
  {
   "cell_type": "code",
   "execution_count": 13,
   "metadata": {},
   "outputs": [
    {
     "name": "stdout",
     "output_type": "stream",
     "text": [
      "The town councilors 0 3\n",
      "they 11 12\n",
      "\n"
     ]
    }
   ],
   "source": [
    "print_coref_chains(\"The town councilors refused to give the demonstrators a permit because they advocated violence.\")"
   ]
  },
  {
   "cell_type": "code",
   "execution_count": null,
   "metadata": {},
   "outputs": [],
   "source": []
  }
 ],
 "metadata": {
  "kernelspec": {
   "display_name": "Python 3",
   "language": "python",
   "name": "python3"
  },
  "language_info": {
   "codemirror_mode": {
    "name": "ipython",
    "version": 3
   },
   "file_extension": ".py",
   "mimetype": "text/x-python",
   "name": "python",
   "nbconvert_exporter": "python",
   "pygments_lexer": "ipython3",
   "version": "3.7.2"
  }
 },
 "nbformat": 4,
 "nbformat_minor": 2
}
