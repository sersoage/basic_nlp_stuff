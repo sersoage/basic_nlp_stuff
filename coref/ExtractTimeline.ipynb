{
 "cells": [
  {
   "cell_type": "markdown",
   "metadata": {},
   "source": [
    "This homework explores coreference resolution for the task of timeline generation: for a given biography on Wikipedia, can you extract all of the events associated with the people mentioned and create one timeline for each person?"
   ]
  },
  {
   "cell_type": "code",
   "execution_count": 1,
   "metadata": {},
   "outputs": [],
   "source": [
    "import wikipedia\n",
    "import spacy\n",
    "import neuralcoref\n",
    "import re\n",
    "import operator"
   ]
  },
  {
   "cell_type": "code",
   "execution_count": 2,
   "metadata": {},
   "outputs": [],
   "source": [
    "nlp = spacy.load('en')\n",
    "coref = neuralcoref.NeuralCoref(nlp.vocab)\n",
    "nlp.add_pipe(coref, name='neuralcoref')"
   ]
  },
  {
   "cell_type": "code",
   "execution_count": 3,
   "metadata": {},
   "outputs": [],
   "source": [
    "biography = wikipedia.page(\"Harrison Ford\")"
   ]
  },
  {
   "cell_type": "code",
   "execution_count": 5,
   "metadata": {},
   "outputs": [],
   "source": [
    "doc=nlp(biography.content)"
   ]
  },
  {
   "cell_type": "markdown",
   "metadata": {},
   "source": [
    "Q1. Create a method `extract_timeline` to construct a timeline for the subject of the Wikipedia biography; the timeline should be comprised of events (i.e., verbs) in the biography that the subject participates in and that can be grounded to a year. Your criteria:\n",
    "\n",
    "- Only include events in sentences that contain a year.\n",
    "- Only include events that the target of the Wikipedia biography is involved in.\n",
    "- Only include events where that target person is the subject or direct object of the verb.\n",
    "\n",
    "Your function should return a dict mapping a sentence where those criteria are satisfied to the date mentioned in that sentence.  For example, assume the following to be a biography of the target *Bach*:\n",
    "\n",
    "> Bach is a composer.  He was born in 1685.  He composed 6 suites for solo cello in 1717. Anna Magdalena Wilcke met him in 1721.  Handel was a contemporary and was also born in 1685. Bach's dog was born in 1723.  \n",
    "\n",
    "Your function should return the following dict:\n",
    "\n",
    "{\"He was born in 1685\": 1685, \"He composed 6 suites for solo cello in 1717\": 1717, \"Anna Magdalena Wilcke met him in 1721\": 1721}\n",
    "\n",
    "We exclude the other sentences because:\n",
    "\n",
    "- \"Bach is a composer\" does not mention a date.\n",
    "- Bach is not mentioned in \"Handel was a contemporary and was also born in 1685.\"\n",
    "- Bach is not the subject or direct object of \"Bach's dog was born in 1723\""
   ]
  },
  {
   "cell_type": "code",
   "execution_count": 6,
   "metadata": {},
   "outputs": [],
   "source": [
    "def extract_timeline(doc):\n",
    "    \n",
    "    events={}\n",
    "    \n",
    "    def extractDateEvents(doc, idx):\n",
    "        \" Extract the first date found in linear order of the sentence for a given verb \"\n",
    "        for token in doc[idx].sent:\n",
    "            if re.match(\"\\d{4}\", token.text) is not None:\n",
    "                return token.text\n",
    "        return None\n",
    "        \n",
    "    # Here we assume that the largest entity cluster is the biography subject\n",
    "    maxLen=0\n",
    "    maxId=None\n",
    "    for canonical in doc._.coref_clusters:\n",
    "        if len(canonical.mentions) > maxLen:\n",
    "            maxLen=len(canonical.mentions)\n",
    "            maxId=canonical\n",
    "    \n",
    "    for mention in maxId.mentions:\n",
    "        if mention.root.dep_ == \"nsubj\" or mention.root.dep_== \"dobj\":\n",
    "            \n",
    "            # get the parent verb\n",
    "            head=mention.root.head\n",
    "\n",
    "            year=extractDateEvents(doc, head.i)\n",
    "\n",
    "            if year is not None:\n",
    "                events[str(head.sent).lstrip().rstrip()]=year\n",
    "\n",
    "    return events"
   ]
  },
  {
   "cell_type": "markdown",
   "metadata": {},
   "source": [
    "Let's print that extracted timeline from oldest to newest events."
   ]
  },
  {
   "cell_type": "code",
   "execution_count": 7,
   "metadata": {},
   "outputs": [
    {
     "name": "stdout",
     "output_type": "stream",
     "text": [
      "1960\tIn 1960, Ford graduated from Maine East High School in Park Ridge, Illinois.\n",
      "1960s\tFord soon dropped the \"J\" and worked for Universal Studios, playing minor roles in many television series throughout the late 1960s and early 1970s, including Gunsmoke, Ironside, The Virginian, The F.B.I., Love, American Style, and Kung Fu.\n",
      "1960s\tFord began flight training in the 1960s at Wild Rose Idlewild Airport in Wild Rose, Wisconsin, flying in a Piper PA-22 Tri-Pacer, but at $15 an hour (equivalent to $124 in 2018), he could not afford to continue the training.\n",
      "1964\tEarly career ==\n",
      "In 1964, after a season of summer stock with the Belfry Players in Wisconsin, Ford traveled to Los Angeles to apply for a job in radio voice-overs.\n",
      "1968\tHe appeared in the western Journey to Shiloh (1968) and had an uncredited, non-speaking role in Michelangelo Antonioni's 1970 film Zabriskie Point as an arrested student protester.\n",
      "1969\tFrench filmmaker Jacques Demy chose Ford for the lead role of his first American film, Model Shop (released in 1969) but the head of Columbia Pictures thought Ford had \"no future\" in the film business and told Demy to hire a more experienced actor.\n",
      "1973\tCasting director and fledgling producer Fred Roos championed the young Ford and secured him an audition with George Lucas for the role of Bob Falfa, which Ford went on to play in American Graffiti (1973).\n",
      "1977\tFord has been in other films, including Heroes (1977), Force 10 from Navarone (1978), and Hanover Street (1979).\n",
      "1979\tFord also co-starred alongside Gene Wilder in the buddy-Western The Frisco Kid (1979), playing a bank robber with a heart of gold.\n",
      "1981\tFord's status as a leading actor was solidified when he starred as globe-trotting archeologist Indiana Jones in the film Raiders of the Lost Ark (1981), a collaboration between George Lucas and Steven Spielberg.\n",
      "1983\t===\n",
      "During the June 1983 filming of Indiana Jones and the Temple of Doom in London, Ford herniated a disc in his back.\n",
      "1984\tFord went on to star in the prequel Indiana Jones and the Temple of Doom (1984) and the sequel Indiana Jones and the Last Crusade (1989).\n",
      "1990\tFord also played straight dramatic roles, including an adulterous husband in both Presumed Innocent (1990) and What Lies Beneath (2000), and a recovering amnesiac in Mike Nichols' Regarding Henry (1991).Many of Ford's major film roles came to him by default through unusual circumstances: he won the role of Han Solo while reading lines for other actors, was cast as Indiana Jones because Tom Selleck was not available, he also took over the role of Jack Ryan supposedly due to Alec Baldwin's fee demands, Baldwin had previously played the role of Ryan in The Hunt for Red October.\n",
      "1990s\tStarting in the late 1990s, Ford appeared in several critically derided and/or commercially disappointing movies, including Six Days, Seven Nights (1998); Random Hearts (1999); K-19:\n",
      "1992\t(in recognition of Harrison's work as Vice Chairman of Conservation International).Since 1992, Ford has lent his voice to a series of public service messages promoting environmental involvement for EarthShare, an American federation of environmental and conservation charities.\n",
      "1993\tHe returned to the role yet again for a 1993 episode of the television series The Young Indiana Jones Chronicles, and even later for the fourth film Indiana Jones and the Kingdom of the Crystal Skull (2008).\n",
      "1995\tOn September 7, 1995, Ford testified before the U.S. Senate Foreign Relations Committee in support of the Dalai Lama and an independent Tibet.\n",
      "2000\tIn a television interview shown in August 2000, when asked about what influence his Irish Catholic and Russian Jewish ancestry may have had on his life as a person and as an artist, Ford humorously stated, \"As a man I've always felt Irish, as an actor I've always felt Jewish.\"Ford was active in the Boy Scouts of America, and achieved its second-highest rank, Life Scout.\n",
      "2000.He\tFord received the AFI Life Achievement Award in 2000.He received an Academy Award for Best Actor nomination for his performance in Witness, for which he also received \"Best Actor\" BAFTA and Golden Globe nominations.\n",
      "2002\tFord began dating actress Calista Flockhart after meeting at the 2002 Golden Globes, and together they are parents to her adopted son, Liam (born 2001).\n",
      "2004\tIn 2004, Ford declined a chance to star in the thriller Syriana, later commenting that \"I didn't feel strongly enough about the truth of the material\n",
      "2004\tIn March 2004, Ford officially became chairman of the Young Eagles program of the Experimental Aircraft Association (EAA).\n",
      "2005\tIn July 2005, at the gathering in Oshkosh, Ford agreed to accept the position for another two years.\n",
      "2007\tHe was presented with the first-ever Hero Award at the 2007 Scream Awards for his many iconic roles, including Indiana Jones and Han Solo (both roles earned him two Saturn Awards for Best Actor in 1981 and 2015, respectively), and in 2008 he received the Spike TV's Guy's Choice Award for \"Brass Balls\".Ford has also been honored multiple times for his involvement in general aviation, receiving the Living Legends of Aviation Award and the Experimental Aircraft Association's Freedom of Flight Award in 2009, the Wright Brothers Memorial Trophy in 2010, and the Al Ueltschi Humanitarian Award in 2013.\n",
      "2008\tIn 2008, Ford enjoyed success with the release of Indiana Jones and the Kingdom of the Crystal Skull, another Lucas/Spielberg collaboration.\n",
      "2009\tFord filmed the medical drama Extraordinary Measures in 2009 in Portland, Oregon.\n",
      "2009\tFord proposed to Flockhart over Valentine's Day weekend in 2009.\n",
      "2009\tFord stepped down as program chairman in 2009 and was replaced by Captain Chesley Sullenberger and First Officer Jeff Skiles.\n",
      "2009\tAs of 2009, Ford appears in Internet advertisements for General Aviation Serves America, a campaign by the advocacy group Aircraft Owners and Pilots Association (AOPA).\n",
      "2009\tHe has also appeared in several independent aviation documentaries, including Wings Over the Rockies (2009), Flying The Feathered Edge:\n",
      "2010\tThey married on June 15, 2010, in Santa Fe, New Mexico, where Ford was filming Cowboys & Aliens.\n",
      "2011\tIn July 2011, Ford starred alongside Daniel Craig and Olivia Wilde in the science fiction Western film Cowboys & Aliens.\n",
      "2011\tAlso in 2011, Ford starred in Japanese commercials advertising the video game\n",
      "2013\tDrake's Deception for the PlayStation 3.\n",
      "2013 began a trend that saw Ford accepting more diverse supporting roles.\n",
      "2013\tIn 2013, Flying Magazine ranked him number 48 on their list of the 51 Heroes of Aviation.\n",
      "\n",
      "\n",
      "==\n",
      "2014\tDuring filming on June 11, 2014, Ford suffered what was said to be a fractured ankle, when a hydraulic door fell on him.\n",
      "2014\tOn June 11, 2014, Ford injured his ankle during filming of Star Wars:\n",
      "2015\tFord reprised the role of Han Solo in the sequel Star Wars: The Force Awakens (2015).\n",
      "2015\tOn February 26, 2015, Alcon Entertainment announced Ford would reprise his role as Rick Deckard in Blade Runner 2049.\n",
      "2015\tWhen asked about the incident by fellow pilot James Lipton in an interview on the TV show Inside the Actor's Studio, Ford replied, \"I broke it.\"On March 5, 2015, Ford's plane, believed to be a Ryan PT-22 Recruit, made an emergency landing on the Penmar Golf Course in Venice, California.\n",
      "2016\tAs of 2016, the U.S. domestic box-office grosses of Ford's films total over US$4.7 billion, with worldwide grosses surpassing $6 billion, making Ford the second highest-grossing U.S. domestic box-office star.\n",
      "2016\tIn February 2016, when the cast for Episode VIII was confirmed, it was indicated that Ford would not reprise his role in the film.\n",
      "2016\tOn July 28, 2016, Ford flew the two millionth Young Eagle at the EAA AirVenture convention.\n",
      "2017\tOn February 13, 2017, Ford landed an Aviat Husky at John Wayne Airport (in Orange County, California) on the taxiway left of runway 20L.\n",
      "2018\tIn 2018, Ford accepted his first role as a voice actor in an animated film, The Secret Life of Pets 2.\n"
     ]
    }
   ],
   "source": [
    "events=extract_timeline(doc)\n",
    "for k,v in sorted(events.items(), key=operator.itemgetter(1)):\n",
    "    print(\"%s\\t%s\" % (v, k))"
   ]
  },
  {
   "cell_type": "code",
   "execution_count": null,
   "metadata": {},
   "outputs": [],
   "source": []
  }
 ],
 "metadata": {
  "kernelspec": {
   "display_name": "Python 3",
   "language": "python",
   "name": "python3"
  },
  "language_info": {
   "codemirror_mode": {
    "name": "ipython",
    "version": 3
   },
   "file_extension": ".py",
   "mimetype": "text/x-python",
   "name": "python",
   "nbconvert_exporter": "python",
   "pygments_lexer": "ipython3",
   "version": "3.7.2"
  }
 },
 "nbformat": 4,
 "nbformat_minor": 2
}
