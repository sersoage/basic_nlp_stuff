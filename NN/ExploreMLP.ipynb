{
 "cells": [
  {
   "cell_type": "markdown",
   "metadata": {},
   "source": [
    "Thie notebook explores the multilayer perceptron for binary text classification for your text classification problem, using the keras library.  Before starting, be sure to install the following versions of tensorflow and keras (for python 3.7):\n",
    "\n",
    "```sh\n",
    "pip install tensorflow==1.13.0-rc2\n",
    "pip install keras==2.2.4\n",
    "```"
   ]
  },
  {
   "cell_type": "code",
   "execution_count": 1,
   "metadata": {},
   "outputs": [
    {
     "name": "stderr",
     "output_type": "stream",
     "text": [
      "Using TensorFlow backend.\n"
     ]
    }
   ],
   "source": [
    "import keras\n",
    "import numpy as np\n",
    "from sklearn import preprocessing\n",
    "from keras.layers import Dense, Dropout\n",
    "from keras.models import Sequential\n",
    "from sklearn.feature_extraction.text import CountVectorizer\n",
    "from keras.callbacks import ModelCheckpoint, EarlyStopping, Callback\n",
    "from random import choices\n",
    "import pandas as pd"
   ]
  },
  {
   "cell_type": "code",
   "execution_count": 2,
   "metadata": {},
   "outputs": [],
   "source": [
    "def read_data(filename):\n",
    "    X=[]\n",
    "    Y=[]\n",
    "    with open(filename, encoding=\"utf-8\") as file:\n",
    "        for idx,line in enumerate(file):\n",
    "            cols=line.rstrip().split(\"\\t\")\n",
    "            label=cols[0]\n",
    "            text=cols[1]\n",
    "            X.append(text)\n",
    "            Y.append(label)\n",
    "\n",
    "    return X, Y"
   ]
  },
  {
   "cell_type": "code",
   "execution_count": 3,
   "metadata": {},
   "outputs": [],
   "source": [
    "# Change this to the directory with your data (from the CheckData_TODO.ipynb exercise).  \n",
    "# The directory should contain train.tsv, dev.tsv and test.tsv\n",
    "directory=\"../data/text_classification_sample_data\""
   ]
  },
  {
   "cell_type": "code",
   "execution_count": 4,
   "metadata": {},
   "outputs": [],
   "source": [
    "trainX, trainY=read_data(\"%s/train.tsv\" % directory)\n",
    "devX, devY=read_data(\"%s/dev.tsv\" % directory)\n",
    "testX, testY=read_data(\"%s/test.tsv\" % directory)\n",
    "\n",
    "vectorizer = CountVectorizer(max_features=10000, analyzer=str.split, lowercase=True, strip_accents=None, binary=True)\n",
    "X_train = vectorizer.fit_transform(trainX)\n",
    "X_dev = vectorizer.transform(devX)\n",
    "X_test = vectorizer.transform(testX)\n",
    "\n",
    "_,vocabSize=X_train.shape\n",
    "\n",
    "le = preprocessing.LabelEncoder()\n",
    "le.fit(trainY)\n",
    "\n",
    "Y_train=le.transform(trainY)\n",
    "Y_dev=le.transform(devY)\n",
    "Y_test=le.transform(testY)"
   ]
  },
  {
   "cell_type": "code",
   "execution_count": 5,
   "metadata": {},
   "outputs": [],
   "source": [
    "def mlp():\n",
    "    model = Sequential()\n",
    "    model.add(Dense(10, activation='relu', input_shape=(vocabSize,)))\n",
    "    model.add(Dropout(0.5))\n",
    "    model.add(Dense(1, activation='sigmoid'))\n",
    "\n",
    "    model.compile(loss='binary_crossentropy', optimizer='adam', metrics=['acc'])\n",
    "        \n",
    "    return model"
   ]
  },
  {
   "cell_type": "code",
   "execution_count": 10,
   "metadata": {},
   "outputs": [],
   "source": [
    "def train_and_evaluate(model, verbose=1, epochs=10):\n",
    "    if verbose > 0:\n",
    "        print (model.summary())\n",
    "\n",
    "    # stop training early when the val_loss on the dev data stops going down\n",
    "    early_stopping = EarlyStopping(monitor='val_loss',\n",
    "        min_delta=0,\n",
    "        patience=5,\n",
    "        verbose=0, \n",
    "        mode='auto')\n",
    "\n",
    "    # when training, save the model that has the best val_loss on the dev data\n",
    "    modelName=\"mymodel.hdf5\"\n",
    "    checkpoint = ModelCheckpoint(modelName, monitor='val_loss', verbose=0, save_best_only=True, mode='min')\n",
    "\n",
    "    # train\n",
    "    model.fit(X_train, Y_train, \n",
    "                validation_data=(X_dev, Y_dev),\n",
    "                epochs=epochs,\n",
    "                verbose=verbose,\n",
    "                callbacks=[checkpoint, early_stopping])\n",
    "    \n",
    "    # load best trained model (from checkpoint)\n",
    "    model.load_weights(modelName)\n",
    "\n",
    "    dev_loss, dev_accuracy = model.evaluate(X_dev, Y_dev, batch_size=128, verbose=verbose)\n",
    "    if verbose > 0:\n",
    "        print(\"Dev Accuracy: %.3f\" % dev_accuracy)\n",
    "\n",
    "    test_loss, test_accuracy = model.evaluate(X_test, Y_test, batch_size=128, verbose=verbose)\n",
    "    if verbose > 0:\n",
    "        print(\"Test Accuracy: %.3f\" % test_accuracy)\n",
    "\n",
    "    return dev_accuracy, test_accuracy"
   ]
  },
  {
   "cell_type": "markdown",
   "metadata": {},
   "source": [
    "Q1: Experiment with the network structure that works best for your binary classification dataset.  Explore the following choices: a.) number of layers in the MLP;  b.) the size of each layer; c.) the activation functions; d.) the use of dropout.  Which architecture performs best on the development data?  Create 5 different models and execute them below.  One of the models should be logistic regression (i.e., an MLP with *no* hidden layers)."
   ]
  },
  {
   "cell_type": "code",
   "execution_count": 11,
   "metadata": {},
   "outputs": [
    {
     "name": "stdout",
     "output_type": "stream",
     "text": [
      "_________________________________________________________________\n",
      "Layer (type)                 Output Shape              Param #   \n",
      "=================================================================\n",
      "dense_4 (Dense)              (None, 10)                100010    \n",
      "_________________________________________________________________\n",
      "dropout_2 (Dropout)          (None, 10)                0         \n",
      "_________________________________________________________________\n",
      "dense_5 (Dense)              (None, 1)                 11        \n",
      "=================================================================\n",
      "Total params: 100,021\n",
      "Trainable params: 100,021\n",
      "Non-trainable params: 0\n",
      "_________________________________________________________________\n",
      "None\n",
      "Train on 2723 samples, validate on 257 samples\n",
      "Epoch 1/10\n",
      "2723/2723 [==============================] - 1s 302us/step - loss: 0.6703 - acc: 0.5714 - val_loss: 0.6521 - val_acc: 0.6459\n",
      "Epoch 2/10\n",
      "2723/2723 [==============================] - 0s 170us/step - loss: 0.5824 - acc: 0.6882 - val_loss: 0.6331 - val_acc: 0.6265\n",
      "Epoch 3/10\n",
      "2723/2723 [==============================] - 0s 166us/step - loss: 0.4946 - acc: 0.7543 - val_loss: 0.5896 - val_acc: 0.7043\n",
      "Epoch 4/10\n",
      "2723/2723 [==============================] - 0s 160us/step - loss: 0.4335 - acc: 0.8094 - val_loss: 0.5818 - val_acc: 0.6887\n",
      "Epoch 5/10\n",
      "2723/2723 [==============================] - 1s 305us/step - loss: 0.3896 - acc: 0.8303 - val_loss: 0.5730 - val_acc: 0.7121\n",
      "Epoch 6/10\n",
      "2723/2723 [==============================] - 1s 214us/step - loss: 0.3567 - acc: 0.8509 - val_loss: 0.5676 - val_acc: 0.7237\n",
      "Epoch 7/10\n",
      "2723/2723 [==============================] - 0s 169us/step - loss: 0.3284 - acc: 0.8652 - val_loss: 0.5765 - val_acc: 0.7315\n",
      "Epoch 8/10\n",
      "2723/2723 [==============================] - 0s 178us/step - loss: 0.3116 - acc: 0.8773 - val_loss: 0.5753 - val_acc: 0.7160\n",
      "Epoch 9/10\n",
      "2723/2723 [==============================] - 0s 174us/step - loss: 0.2957 - acc: 0.8884 - val_loss: 0.5993 - val_acc: 0.7198\n",
      "Epoch 10/10\n",
      "2723/2723 [==============================] - 0s 176us/step - loss: 0.2772 - acc: 0.8983 - val_loss: 0.6078 - val_acc: 0.7160\n",
      "257/257 [==============================] - 0s 75us/step\n",
      "Dev Accuracy: 0.724\n",
      "858/858 [==============================] - 0s 104us/step\n",
      "Test Accuracy: 0.684\n"
     ]
    }
   ],
   "source": [
    "def get_model1():\n",
    "    model = Sequential()\n",
    "    model.add(Dense(10, activation='relu', input_shape=(vocabSize,)))\n",
    "    model.add(Dropout(0.5))\n",
    "    model.add(Dense(1, activation='sigmoid'))\n",
    "\n",
    "    model.compile(loss='binary_crossentropy', optimizer='adam', metrics=['acc'])\n",
    "        \n",
    "    return model\n",
    "\n",
    "model1=get_model1()\n",
    "dev_accuracy, test_accuracy=train_and_evaluate(model1)"
   ]
  },
  {
   "cell_type": "code",
   "execution_count": null,
   "metadata": {},
   "outputs": [],
   "source": [
    "def get_model2():\n",
    "    model = Sequential()\n",
    "    # your model here\n",
    "\n",
    "    model.compile(loss='binary_crossentropy', optimizer='adam', metrics=['acc'])\n",
    "        \n",
    "    return model\n",
    "\n",
    "model2=get_model2()\n",
    "dev_accuracy, test_accuracy=train_and_evaluate(model2)"
   ]
  },
  {
   "cell_type": "code",
   "execution_count": null,
   "metadata": {},
   "outputs": [],
   "source": [
    "def get_model3():\n",
    "    model = Sequential()\n",
    "    # your model here\n",
    "\n",
    "    model.compile(loss='binary_crossentropy', optimizer='adam', metrics=['acc'])\n",
    "        \n",
    "    return model\n",
    "\n",
    "model3=get_model3()\n",
    "dev_accuracy, test_accuracy=train_and_evaluate(model3)"
   ]
  },
  {
   "cell_type": "code",
   "execution_count": null,
   "metadata": {},
   "outputs": [],
   "source": [
    "def get_model4():\n",
    "    model = Sequential()\n",
    "    # your model here\n",
    "\n",
    "    model.compile(loss='binary_crossentropy', optimizer='adam', metrics=['acc'])\n",
    "        \n",
    "    return model\n",
    "\n",
    "model4=get_model4()\n",
    "dev_accuracy, test_accuracy=train_and_evaluate(model4)"
   ]
  },
  {
   "cell_type": "code",
   "execution_count": 12,
   "metadata": {},
   "outputs": [
    {
     "name": "stdout",
     "output_type": "stream",
     "text": [
      "_________________________________________________________________\n",
      "Layer (type)                 Output Shape              Param #   \n",
      "=================================================================\n",
      "dense_6 (Dense)              (None, 1)                 10001     \n",
      "=================================================================\n",
      "Total params: 10,001\n",
      "Trainable params: 10,001\n",
      "Non-trainable params: 0\n",
      "_________________________________________________________________\n",
      "None\n",
      "Train on 2723 samples, validate on 257 samples\n",
      "Epoch 1/10\n",
      "2723/2723 [==============================] - 1s 322us/step - loss: 0.6524 - acc: 0.6214 - val_loss: 0.6520 - val_acc: 0.6109\n",
      "Epoch 2/10\n",
      "2723/2723 [==============================] - 0s 120us/step - loss: 0.5534 - acc: 0.7539 - val_loss: 0.6279 - val_acc: 0.6381\n",
      "Epoch 3/10\n",
      "2723/2723 [==============================] - 0s 124us/step - loss: 0.4957 - acc: 0.8101 - val_loss: 0.6133 - val_acc: 0.6693\n",
      "Epoch 4/10\n",
      "2723/2723 [==============================] - 0s 112us/step - loss: 0.4559 - acc: 0.8285 - val_loss: 0.6019 - val_acc: 0.6848\n",
      "Epoch 5/10\n",
      "2723/2723 [==============================] - 0s 112us/step - loss: 0.4254 - acc: 0.8417 - val_loss: 0.5941 - val_acc: 0.7237\n",
      "Epoch 6/10\n",
      "2723/2723 [==============================] - 0s 112us/step - loss: 0.4013 - acc: 0.8568 - val_loss: 0.5869 - val_acc: 0.7354\n",
      "Epoch 7/10\n",
      "2723/2723 [==============================] - 0s 118us/step - loss: 0.3808 - acc: 0.8660 - val_loss: 0.5819 - val_acc: 0.7315\n",
      "Epoch 8/10\n",
      "2723/2723 [==============================] - 0s 111us/step - loss: 0.3639 - acc: 0.8733 - val_loss: 0.5766 - val_acc: 0.7432\n",
      "Epoch 9/10\n",
      "2723/2723 [==============================] - 0s 158us/step - loss: 0.3490 - acc: 0.8788 - val_loss: 0.5739 - val_acc: 0.7354\n",
      "Epoch 10/10\n",
      "2723/2723 [==============================] - 0s 144us/step - loss: 0.3364 - acc: 0.8825 - val_loss: 0.5722 - val_acc: 0.7276\n",
      "257/257 [==============================] - 0s 73us/step\n",
      "Dev Accuracy: 0.728\n",
      "858/858 [==============================] - 0s 116us/step\n",
      "Test Accuracy: 0.672\n"
     ]
    }
   ],
   "source": [
    "def get_logreg():\n",
    "    # your model here\n",
    "\n",
    "    model = Sequential()\n",
    "    model.add(Dense(1, activation='sigmoid', input_shape=(vocabSize,)))\n",
    "    model.compile(loss='binary_crossentropy', optimizer='adam', metrics=['acc'])\n",
    "        \n",
    "    return model\n",
    "    \n",
    "logreg=get_logreg()\n",
    "dev_accuracy, test_accuracy=train_and_evaluate(logreg)"
   ]
  },
  {
   "cell_type": "markdown",
   "metadata": {},
   "source": [
    "We can generate predictions for a given test set with the `predict_classes` function:"
   ]
  },
  {
   "cell_type": "code",
   "execution_count": 13,
   "metadata": {},
   "outputs": [],
   "source": [
    "model=logreg\n",
    "predictions=model.predict_classes(X_test)"
   ]
  },
  {
   "cell_type": "markdown",
   "metadata": {},
   "source": [
    "Q2: For the single best model you identified in Q1 above, calculate 95% confidence intervals it makes on the test data."
   ]
  },
  {
   "cell_type": "code",
   "execution_count": 14,
   "metadata": {},
   "outputs": [],
   "source": [
    "def accuracy(truth, predictions):\n",
    "    correct=0.\n",
    "    for idx in range(len(truth)):\n",
    "        g=truth[idx]\n",
    "        p=predictions[idx]\n",
    "        if g == p:\n",
    "            correct+=1\n",
    "    return correct/len(truth)"
   ]
  },
  {
   "cell_type": "code",
   "execution_count": 15,
   "metadata": {},
   "outputs": [],
   "source": [
    "def bootstrap(gold, predictions, metric, B=10000, confidence_level=0.95):\n",
    "    critical_value=(1-confidence_level)/2\n",
    "    lower_sig=100*critical_value\n",
    "    upper_sig=100*(1-critical_value)\n",
    "    data=[]\n",
    "    for g, p in zip(gold, predictions):\n",
    "        data.append([g,p])\n",
    "\n",
    "    accuracies=[]\n",
    "    \n",
    "    for b in range(B):\n",
    "        choice=choices(data, k=len(data))\n",
    "        choice=np.array(choice)\n",
    "        accuracy=metric(choice[:,0], choice[:,1])\n",
    "        \n",
    "        accuracies.append(accuracy)\n",
    "    \n",
    "    percentiles=np.percentile(accuracies, [lower_sig, 50, upper_sig])\n",
    "    \n",
    "    lower=percentiles[0]\n",
    "    median=percentiles[1]\n",
    "    upper=percentiles[2]\n",
    "    \n",
    "    return lower, median, upper"
   ]
  },
  {
   "cell_type": "code",
   "execution_count": 20,
   "metadata": {},
   "outputs": [
    {
     "name": "stdout",
     "output_type": "stream",
     "text": [
      "Accuracy: 0.672 [0.641, 0.704]\n"
     ]
    }
   ],
   "source": [
    "lower, median, upper=bootstrap(Y_test, predictions, accuracy)\n",
    "print (\"Accuracy: %.3f [%.3f, %.3f]\" % (median, lower, upper))"
   ]
  },
  {
   "cell_type": "markdown",
   "metadata": {},
   "source": [
    "Q3: Unlike logistic/linear regression, neural networks converge to different solutions as a function of their *initialization* (the random choice of the initial values for parameters).  For the best model that's not logistic regression you identified in Q1 above, train the model 10 times and save the accuracies attained on the development data.  Plot the distribution of dev accuracies using [pandas.DataFrame.plot.density](https://pandas.pydata.org/pandas-docs/stable/reference/api/pandas.DataFrame.plot.density.html). "
   ]
  },
  {
   "cell_type": "code",
   "execution_count": 17,
   "metadata": {},
   "outputs": [
    {
     "name": "stdout",
     "output_type": "stream",
     "text": [
      "iteration: 0\t0.724\t0.692\n",
      "iteration: 1\t0.712\t0.698\n",
      "iteration: 2\t0.716\t0.685\n",
      "iteration: 3\t0.720\t0.690\n",
      "iteration: 4\t0.704\t0.689\n",
      "iteration: 5\t0.712\t0.679\n",
      "iteration: 6\t0.720\t0.679\n",
      "iteration: 7\t0.712\t0.681\n",
      "iteration: 8\t0.716\t0.683\n",
      "iteration: 9\t0.716\t0.676\n"
     ]
    }
   ],
   "source": [
    "dev_accuracies=[]\n",
    "\n",
    "model=model1\n",
    "\n",
    "for i in range(10):\n",
    "    dev_accuracy, test_accuracy=train_and_evaluate(model, verbose=0)\n",
    "    dev_accuracies.append(dev_accuracy)\n",
    "    print(\"iteration: %s\\t%.3f\\t%.3f\" % (i, dev_accuracy, test_accuracy))"
   ]
  },
  {
   "cell_type": "code",
   "execution_count": 19,
   "metadata": {},
   "outputs": [
    {
     "data": {
      "image/png": "[encoded data removed]",
      "text/plain": [
       "<Figure size 432x288 with 1 Axes>"
      ]
     },
     "metadata": {
      "needs_background": "light"
     },
     "output_type": "display_data"
    }
   ],
   "source": [
    "df=pd.DataFrame(dev_accuracies)\n",
    "ax = df.plot.kde()"
   ]
  },
  {
   "cell_type": "code",
   "execution_count": null,
   "metadata": {},
   "outputs": [],
   "source": []
  }
 ],
 "metadata": {
  "kernelspec": {
   "display_name": "Python 3",
   "language": "python",
   "name": "python3"
  },
  "language_info": {
   "codemirror_mode": {
    "name": "ipython",
    "version": 3
   },
   "file_extension": ".py",
   "mimetype": "text/x-python",
   "name": "python",
   "nbconvert_exporter": "python",
   "pygments_lexer": "ipython3",
   "version": "3.7.2"
  }
 },
 "nbformat": 4,
 "nbformat_minor": 2
}
