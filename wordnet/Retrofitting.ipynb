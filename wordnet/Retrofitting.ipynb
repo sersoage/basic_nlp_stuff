{
 "cells": [
  {
   "cell_type": "markdown",
   "metadata": {},
   "source": [
    "This notebook explores the use of retrofitted word vectors (vectors that have been transformed to respect proximity constraints in resources like WordNet (so that words in the same synsets are encouraged to have similar representations).  See [Faruqui et al. 2015](https://github.com/mfaruqui/retrofitting)."
   ]
  },
  {
   "cell_type": "code",
   "execution_count": null,
   "metadata": {},
   "outputs": [],
   "source": [
    "from gensim.scripts.glove2word2vec import glove2word2vec\n",
    "from gensim.models import Word2Vec, KeyedVectors"
   ]
  },
  {
   "cell_type": "code",
   "execution_count": null,
   "metadata": {},
   "outputs": [],
   "source": [
    "glove_file=\"../data/glove.42B.300d.50K.txt\"\n",
    "original_file=\"../data/glove.42B.300d.50K.w2v.txt\"\n",
    "_ = glove2word2vec(glove_file, original_file)"
   ]
  },
  {
   "cell_type": "markdown",
   "metadata": {},
   "source": [
    "Download vectors that have already been retrofit [here](https://drive.google.com/file/d/1sr0xEUzlLtjbrs0NY4-vek60SY7Gk9bQ/view?usp=sharing).  These vectors have been fit using the code of [Faruqui et al. 2015](https://github.com/mfaruqui/retrofitting):\n",
    "\n",
    "```sh\n",
    "python retrofit.py -i glove.42B.300d.50K.txt -l lexicons/wordnet-synonyms.txt -n 10 -o glove.42B.300d.50K.txt.retrofit\n",
    "```"
   ]
  },
  {
   "cell_type": "code",
   "execution_count": null,
   "metadata": {},
   "outputs": [],
   "source": [
    "glove_file=\"../data/glove.42B.300d.50K.txt.retrofit\"\n",
    "retrofit_file=\"../data/glove.42B.300d.50K.w2v.txt.retrofit\"\n",
    "_ = glove2word2vec(glove_file, retrofit_file)"
   ]
  },
  {
   "cell_type": "code",
   "execution_count": null,
   "metadata": {},
   "outputs": [],
   "source": [
    "original = KeyedVectors.load_word2vec_format(original_file, binary=False)"
   ]
  },
  {
   "cell_type": "code",
   "execution_count": null,
   "metadata": {},
   "outputs": [],
   "source": [
    "retrofit = KeyedVectors.load_word2vec_format(retrofit_file, binary=False)"
   ]
  },
  {
   "cell_type": "markdown",
   "metadata": {},
   "source": [
    "Explore these two vectors to see how the retrofit vectors encode the similarity found in WordNet in their nearest neighbors."
   ]
  },
  {
   "cell_type": "code",
   "execution_count": null,
   "metadata": {},
   "outputs": [],
   "source": [
    "original.most_similar(\"hate\", topn=10)"
   ]
  },
  {
   "cell_type": "code",
   "execution_count": null,
   "metadata": {},
   "outputs": [],
   "source": [
    "retrofit.most_similar(\"hate\", topn=10)"
   ]
  },
  {
   "cell_type": "code",
   "execution_count": null,
   "metadata": {},
   "outputs": [],
   "source": []
  }
 ],
 "metadata": {
  "kernelspec": {
   "display_name": "Python 3",
   "language": "python",
   "name": "python3"
  },
  "language_info": {
   "codemirror_mode": {
    "name": "ipython",
    "version": 3
   },
   "file_extension": ".py",
   "mimetype": "text/x-python",
   "name": "python",
   "nbconvert_exporter": "python",
   "pygments_lexer": "ipython3",
   "version": "3.6.8"
  }
 },
 "nbformat": 4,
 "nbformat_minor": 2
}
