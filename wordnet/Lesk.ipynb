{
 "cells": [
  {
   "cell_type": "code",
   "execution_count": 5,
   "metadata": {},
   "outputs": [],
   "source": [
    "from gensim.scripts.glove2word2vec import glove2word2vec\n",
    "from gensim.models import Word2Vec, KeyedVectors\n",
    "from nltk.corpus import wordnet as wn\n",
    "import nltk\n",
    "import numpy as np\n",
    "from scipy.spatial.distance import cosine\n",
    "import operator"
   ]
  },
  {
   "cell_type": "code",
   "execution_count": 6,
   "metadata": {},
   "outputs": [],
   "source": [
    "glove_file=\"../data/glove.42B.300d.50K.txt\"\n",
    "original_file=\"../data/glove.42B.300d.50K.w2v.txt\"\n",
    "n, dimension = glove2word2vec(glove_file, original_file)"
   ]
  },
  {
   "cell_type": "code",
   "execution_count": 7,
   "metadata": {},
   "outputs": [],
   "source": [
    "wv = KeyedVectors.load_word2vec_format(original_file, binary=False)"
   ]
  },
  {
   "cell_type": "markdown",
   "metadata": {},
   "source": [
    "Q1: Implement the Lesk algorithm using word vectors \\([Basile et al. 2014](https://www.aclweb.org/anthology/C/C14/C14-1151.pdf)\\), where we measure the similarity between a gloss g = $\\{ g_1, \\ldots, g_G \\}$ and context c = $\\{ c_1, \\ldots, c_C \\}$ as the cosine similarity between the sum of distributed representations:\n",
    "\n",
    "$$\n",
    "\\cos \\left(\\sum_{i=1}^G g_i, \\sum_{i=1}^C c_i  \\right)\n",
    "$$\n",
    "\n",
    "* The gloss for a synset can be found in `synset.definition()`; be sure to tokenize it appropriately.  \n",
    "* You can find the cosine *distance* (not similarity) between two vectors using the `scipy.spatial.distance.cosine(vector_one, vector_two)` function.\n",
    "* `wn.synsets(word, pos=part_of_speech)` gets you a list of the synsets for a word with a specific part of speech (e.g., \"n\" for noun)"
   ]
  },
  {
   "cell_type": "code",
   "execution_count": 17,
   "metadata": {},
   "outputs": [],
   "source": [
    "def lesk(word, sentence, part_of_speech):\n",
    "    context_tokens=nltk.word_tokenize(sentence)\n",
    "    context_vector=np.zeros(dimension)\n",
    "\n",
    "    for context_word in context_tokens:\n",
    "        if context_word in wv and context_word != word:\n",
    "            context_vector+=wv[context_word]\n",
    "            \n",
    "    synsets=wn.synsets(word, pos=part_of_speech)\n",
    "    vals={}\n",
    "    for synset in synsets:\n",
    "        tokens=nltk.word_tokenize(synset.definition())\n",
    "        vector=np.zeros(dimension)\n",
    "\n",
    "        for def_word in tokens:\n",
    "            if def_word in wv and def_word != word:\n",
    "                vector+=wv[def_word]\n",
    "        vals[synset]=1-cosine(context_vector, vector)\n",
    "    \n",
    "    sorted_x = sorted(vals.items(), key=operator.itemgetter(1), reverse=True)        \n",
    "    for k,v in sorted_x:\n",
    "        print(\"%.3f\\t%s\\t%s\"% (v,k,k.definition()))\n"
   ]
  },
  {
   "cell_type": "markdown",
   "metadata": {},
   "source": [
    "Does your implementation distinguish between these two senses of \"bank\"?"
   ]
  },
  {
   "cell_type": "code",
   "execution_count": 18,
   "metadata": {},
   "outputs": [
    {
     "name": "stdout",
     "output_type": "stream",
     "text": [
      "0.891\tSynset('savings_bank.n.02')\ta container (usually with a slot in the top) for keeping money at home\n",
      "0.889\tSynset('depository_financial_institution.n.01')\ta financial institution that accepts deposits and channels the money into lending activities\n",
      "0.878\tSynset('bank.n.06')\tthe funds held by a gambling house or the dealer in some gambling games\n",
      "0.875\tSynset('bank.n.07')\ta slope in the turn of a road or track; the outside is higher than the inside in order to reduce the effects of centrifugal force\n",
      "0.859\tSynset('bank.n.09')\ta building in which the business of banking transacted\n",
      "0.859\tSynset('bank.n.05')\ta supply or stock held in reserve for future use (especially in emergencies)\n",
      "0.829\tSynset('bank.n.04')\tan arrangement of similar objects in a row or in tiers\n",
      "0.828\tSynset('bank.n.01')\tsloping land (especially the slope beside a body of water)\n",
      "0.812\tSynset('bank.n.10')\ta flight maneuver; aircraft tips laterally about its longitudinal axis (especially in turning)\n",
      "0.807\tSynset('bank.n.03')\ta long ridge or pile\n"
     ]
    }
   ],
   "source": [
    "lesk(\"bank\", \"I deposited my money into my savings account at the bank\", \"n\")"
   ]
  },
  {
   "cell_type": "code",
   "execution_count": 16,
   "metadata": {},
   "outputs": [
    {
     "name": "stdout",
     "output_type": "stream",
     "text": [
      "0.857\tSynset('bank.n.01')\tsloping land (especially the slope beside a body of water)\n",
      "0.845\tSynset('bank.n.07')\ta slope in the turn of a road or track; the outside is higher than the inside in order to reduce the effects of centrifugal force\n",
      "0.821\tSynset('bank.n.06')\tthe funds held by a gambling house or the dealer in some gambling games\n",
      "0.808\tSynset('bank.n.09')\ta building in which the business of banking transacted\n",
      "0.808\tSynset('savings_bank.n.02')\ta container (usually with a slot in the top) for keeping money at home\n",
      "0.788\tSynset('depository_financial_institution.n.01')\ta financial institution that accepts deposits and channels the money into lending activities\n",
      "0.786\tSynset('bank.n.03')\ta long ridge or pile\n",
      "0.783\tSynset('bank.n.10')\ta flight maneuver; aircraft tips laterally about its longitudinal axis (especially in turning)\n",
      "0.781\tSynset('bank.n.05')\ta supply or stock held in reserve for future use (especially in emergencies)\n",
      "0.767\tSynset('bank.n.04')\tan arrangement of similar objects in a row or in tiers\n"
     ]
    }
   ],
   "source": [
    "lesk(\"bank\", \"I ran along the river bank\", \"n\")"
   ]
  },
  {
   "cell_type": "code",
   "execution_count": null,
   "metadata": {},
   "outputs": [],
   "source": []
  }
 ],
 "metadata": {
  "kernelspec": {
   "display_name": "Python 3",
   "language": "python",
   "name": "python3"
  },
  "language_info": {
   "codemirror_mode": {
    "name": "ipython",
    "version": 3
   },
   "file_extension": ".py",
   "mimetype": "text/x-python",
   "name": "python",
   "nbconvert_exporter": "python",
   "pygments_lexer": "ipython3",
   "version": "3.7.2"
  }
 },
 "nbformat": 4,
 "nbformat_minor": 2
}
