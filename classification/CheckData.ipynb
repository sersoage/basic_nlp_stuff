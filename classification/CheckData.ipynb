{
 "cells": [
  {
   "cell_type": "markdown",
   "metadata": {},
   "source": [
    "We'll be covering text classification and regression methods over the next month; in preparation for this topic, your assignment is to gather labeled data to use for your analysis.\n",
    "\n",
    "* Find at least 300 documents for some topic that interests you, along with a single binary label for each document.  Aim high if you can; the more data in your collection, the better your classification models will tend to perform on it.\n",
    "\n",
    "* Split your data into three non-overlapping files (train.tsv, dev.tsv and test.tsv), with train.tsv containing 80% of the documents, dev.tsv 10% and test.tsv 10%.\n",
    "\n",
    "* All of the data must be in a common format; we'll use a tab-separated format with the label in the first column and the full text in the second column. Replace all newlines in the text with \\_NEWLINE\\_ and tab characters with \\_TAB\\_.\n",
    "\n",
    "See data/text_classification_sample/ for an example.  Execute the Jupyter notebook 4.classification/CheckData_TODO.ipynb to verify that your format is correct.\n",
    "\n",
    "Your choice of documents and labels is completely up to you (except for any data already used in class in the data/ folder).  Possible sources of data:\n",
    "\n",
    "* Project Gutenberg.  Metadata is available at this [Github repo](https://github.com/hugovk/gutenberg-metadata) along with URLs for the texts.  Labels here can be author, subject, author gender etc.\n",
    "\n",
    "* Crawl news articles from different domains (e.g,. CNN, FoxNews); the label for each article is the domain.\n",
    "\n",
    "* [Movie summary data](http://www.cs.cmu.edu/~ark/personas/).  Labels here can be any categorical metadata aspect (genre, release date); note real-valued metadata (like box office, runtime) can be binarized by selecting some threshold.\n",
    "\n",
    "* [Download your own tweets](https://help.twitter.com/en/managing-your-account/how-to-download-your-twitter-archive).  Labels here can be any categorical metadata included in the tweet, or labels you add by hand (e.g., sarcasm)\n"
   ]
  },
  {
   "cell_type": "code",
   "execution_count": null,
   "metadata": {},
   "outputs": [],
   "source": [
    "import sys\n",
    "from collections import Counter"
   ]
  },
  {
   "cell_type": "code",
   "execution_count": null,
   "metadata": {},
   "outputs": [],
   "source": [
    "def test(directory):\n",
    "    for split in [\"train\", \"dev\", \"test\"]:\n",
    "        filename=\"%s/%s.tsv\" % (directory, split)\n",
    "        with open(filename) as file:\n",
    "            labelCounts=Counter()\n",
    "            zeroLength=0\n",
    "            total=0\n",
    "            for line in file:\n",
    "                cols=line.rstrip().split(\"\\t\")\n",
    "                label=cols[0]\n",
    "                text=cols[1]\n",
    "                if len(text) == 0:\n",
    "                    zeroLength+=1\n",
    "                total+=1\n",
    "\n",
    "                labelCounts[label]+=1\n",
    "\n",
    "            print (\"File: %s, Total docs: %s, Total zero length: %s\" % (filename, total, zeroLength))\n",
    "            for label in sorted(labelCounts):\n",
    "                print (\"\\t%s %s\" % (label, labelCounts[label]))\n",
    "            print()"
   ]
  },
  {
   "cell_type": "markdown",
   "metadata": {},
   "source": [
    "Q1: Describe your data.  What is the source of the documents, and what do the labels mean?"
   ]
  },
  {
   "cell_type": "markdown",
   "metadata": {},
   "source": [
    "Q2: Change the directionary name below to the directory containing your data and execute the `test()` function above to verify the data is in the correct format:"
   ]
  },
  {
   "cell_type": "code",
   "execution_count": null,
   "metadata": {},
   "outputs": [],
   "source": [
    "directory=\"../data/text_classification_sample_data\"\n",
    "test(directory)"
   ]
  }
 ],
 "metadata": {
  "kernelspec": {
   "display_name": "Python 3",
   "language": "python",
   "name": "python3"
  },
  "language_info": {
   "codemirror_mode": {
    "name": "ipython",
    "version": 3
   },
   "file_extension": ".py",
   "mimetype": "text/x-python",
   "name": "python",
   "nbconvert_exporter": "python",
   "pygments_lexer": "ipython3",
   "version": "3.7.2"
  }
 },
 "nbformat": 4,
 "nbformat_minor": 2
}
